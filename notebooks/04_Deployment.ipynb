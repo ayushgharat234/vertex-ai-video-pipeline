{
  "cells": [
    {
      "cell_type": "code",
      "id": "sJfcvo1hUA7odGJzPkH98T1M",
      "metadata": {
        "tags": [],
        "id": "sJfcvo1hUA7odGJzPkH98T1M",
        "executionInfo": {
          "status": "ok",
          "timestamp": 1747559933368,
          "user_tz": -330,
          "elapsed": 2,
          "user": {
            "displayName": "",
            "userId": ""
          }
        }
      },
      "source": [
        "from google.cloud import aiplatform\n",
        "\n",
        "aiplatform.init(project='glass-guide-460102-r0', location='us-central1')"
      ],
      "execution_count": 4,
      "outputs": []
    },
    {
      "cell_type": "code",
      "source": [
        "import tensorflow as tf\n",
        "\n",
        "# Load the Keras model\n",
        "model = tf.keras.models.load_model('gs://exercise-recognition-dataset/model/tcn_pose_model.keras')\n",
        "\n",
        "# Specify the directory where you want to save the SavedModel\n",
        "export_dir = 'gs://exercise-recognition-dataset/model/saved_model' # A new directory for the SavedModel\n",
        "\n",
        "# Save the model as a SavedModel\n",
        "tf.saved_model.save(model, export_dir)"
      ],
      "metadata": {
        "colab": {
          "base_uri": "https://localhost:8080/"
        },
        "id": "fLRNyPwGs_ul",
        "executionInfo": {
          "status": "ok",
          "timestamp": 1747560194522,
          "user_tz": -330,
          "elapsed": 11820,
          "user": {
            "displayName": "",
            "userId": ""
          }
        },
        "outputId": "13ad8bea-3f76-4119-e514-1ac5092b75cb"
      },
      "id": "fLRNyPwGs_ul",
      "execution_count": 6,
      "outputs": [
        {
          "output_type": "stream",
          "name": "stderr",
          "text": [
            "/usr/local/lib/python3.10/dist-packages/keras/src/layers/layer.py:934: UserWarning: Layer 'tcn' (of type TCN) was passed an input with a mask attached to it. However, this layer does not support masking and will therefore destroy the mask information. Downstream layers will not see the mask.\n",
            "  warnings.warn(\n",
            "/usr/local/lib/python3.10/dist-packages/keras/src/layers/layer.py:934: UserWarning: Layer 'conv1D_0' (of type Conv1D) was passed an input with a mask attached to it. However, this layer does not support masking and will therefore destroy the mask information. Downstream layers will not see the mask.\n",
            "  warnings.warn(\n",
            "/usr/local/lib/python3.10/dist-packages/keras/src/layers/layer.py:934: UserWarning: Layer 'matching_conv1D' (of type Conv1D) was passed an input with a mask attached to it. However, this layer does not support masking and will therefore destroy the mask information. Downstream layers will not see the mask.\n",
            "  warnings.warn(\n",
            "/usr/local/lib/python3.10/dist-packages/keras/src/layers/layer.py:934: UserWarning: Layer 'residual_block_0' (of type ResidualBlock) was passed an input with a mask attached to it. However, this layer does not support masking and will therefore destroy the mask information. Downstream layers will not see the mask.\n",
            "  warnings.warn(\n",
            "/usr/local/lib/python3.10/dist-packages/keras/src/layers/layer.py:934: UserWarning: Layer 'tcn' (of type TCN) was passed an input with a mask attached to it. However, this layer does not support masking and will therefore destroy the mask information. Downstream layers will not see the mask.\n",
            "  warnings.warn(\n",
            "/usr/local/lib/python3.10/dist-packages/keras/src/layers/layer.py:934: UserWarning: Layer 'conv1D_0' (of type Conv1D) was passed an input with a mask attached to it. However, this layer does not support masking and will therefore destroy the mask information. Downstream layers will not see the mask.\n",
            "  warnings.warn(\n",
            "/usr/local/lib/python3.10/dist-packages/keras/src/layers/layer.py:934: UserWarning: Layer 'matching_conv1D' (of type Conv1D) was passed an input with a mask attached to it. However, this layer does not support masking and will therefore destroy the mask information. Downstream layers will not see the mask.\n",
            "  warnings.warn(\n",
            "/usr/local/lib/python3.10/dist-packages/keras/src/layers/layer.py:934: UserWarning: Layer 'residual_block_0' (of type ResidualBlock) was passed an input with a mask attached to it. However, this layer does not support masking and will therefore destroy the mask information. Downstream layers will not see the mask.\n",
            "  warnings.warn(\n",
            "/usr/local/lib/python3.10/dist-packages/keras/src/layers/layer.py:934: UserWarning: Layer 'tcn' (of type TCN) was passed an input with a mask attached to it. However, this layer does not support masking and will therefore destroy the mask information. Downstream layers will not see the mask.\n",
            "  warnings.warn(\n"
          ]
        }
      ]
    },
    {
      "cell_type": "code",
      "source": [
        "model = aiplatform.Model.upload(\n",
        "    display_name=\"tcn-exercise-pose-model\",\n",
        "    artifact_uri=\"gs://exercise-recognition-dataset/model/saved_model/\",\n",
        "    serving_container_image_uri=\"us-docker.pkg.dev/vertex-ai/prediction/tf2-cpu.2-11:latest\"\n",
        ")"
      ],
      "metadata": {
        "colab": {
          "base_uri": "https://localhost:8080/"
        },
        "id": "HskNx_uTrZK5",
        "executionInfo": {
          "status": "ok",
          "timestamp": 1747560264983,
          "user_tz": -330,
          "elapsed": 8298,
          "user": {
            "displayName": "",
            "userId": ""
          }
        },
        "outputId": "2f8b1c69-4300-452d-d86b-413cc071b7e2"
      },
      "id": "HskNx_uTrZK5",
      "execution_count": 8,
      "outputs": [
        {
          "output_type": "stream",
          "name": "stderr",
          "text": [
            "INFO:google.cloud.aiplatform.models:Creating Model\n",
            "INFO:google.cloud.aiplatform.models:Create Model backing LRO: projects/831940086733/locations/us-central1/models/2929172643674324992/operations/8234695957162229760\n",
            "INFO:google.cloud.aiplatform.models:Model created. Resource name: projects/831940086733/locations/us-central1/models/2929172643674324992@1\n",
            "INFO:google.cloud.aiplatform.models:To use this Model in another session:\n",
            "INFO:google.cloud.aiplatform.models:model = aiplatform.Model('projects/831940086733/locations/us-central1/models/2929172643674324992@1')\n"
          ]
        }
      ]
    },
    {
      "cell_type": "code",
      "source": [],
      "metadata": {
        "id": "YTHYMThksM5g"
      },
      "id": "YTHYMThksM5g",
      "execution_count": null,
      "outputs": []
    }
  ],
  "metadata": {
    "kernelspec": {
      "display_name": "Python 3",
      "language": "python",
      "name": "python3"
    },
    "language_info": {
      "codemirror_mode": {
        "name": "ipython",
        "version": 3
      },
      "file_extension": ".py",
      "mimetype": "text/x-python",
      "name": "python",
      "nbconvert_exporter": "python",
      "pygments_lexer": "ipython3",
      "version": "3.10.10"
    },
    "colab": {
      "provenance": [],
      "name": "ayush.gharat.btech2023 (May 18, 2025, 2:43:57 PM)"
    }
  },
  "nbformat": 4,
  "nbformat_minor": 5
}