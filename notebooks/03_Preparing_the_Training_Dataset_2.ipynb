{
  "cells": [
    {
      "cell_type": "code",
      "id": "j3ht9gId9yAvRDLYGNkxQnmN",
      "metadata": {
        "tags": [],
        "id": "j3ht9gId9yAvRDLYGNkxQnmN",
        "colab": {
          "base_uri": "https://localhost:8080/"
        },
        "executionInfo": {
          "status": "ok",
          "timestamp": 1747558394984,
          "user_tz": -330,
          "elapsed": 1198,
          "user": {
            "displayName": "",
            "userId": ""
          }
        },
        "outputId": "b51dd369-e307-4d5c-b633-211dba1df535"
      },
      "source": [
        "import pandas as pd\n",
        "import numpy as np\n",
        "\n",
        "# Loading the data\n",
        "df = pd.read_csv('final_pose_features_dataset.csv')\n",
        "\n",
        "print(df.shape)\n",
        "print(df.columns)\n",
        "print(df.head())"
      ],
      "execution_count": null,
      "outputs": [
        {
          "output_type": "stream",
          "name": "stdout",
          "text": [
            "(14138, 193)\n",
            "Index(['x0_scaled', 'y0_scaled', 'z0_scaled', 'x1_scaled', 'y1_scaled',\n",
            "       'z1_scaled', 'x2_scaled', 'y2_scaled', 'z2_scaled', 'x3_scaled',\n",
            "       ...\n",
            "       'acc_norm_24', 'acc_norm_25', 'acc_norm_26', 'acc_norm_27',\n",
            "       'acc_norm_28', 'acc_norm_29', 'acc_norm_30', 'acc_norm_31',\n",
            "       'acc_norm_32', 'acc_mean_norm'],\n",
            "      dtype='object', length=193)\n",
            "   x0_scaled  y0_scaled  z0_scaled  x1_scaled  y1_scaled  z1_scaled  \\\n",
            "0  -0.290230  -0.908041  -1.103772  -0.272303  -0.967773  -1.157645   \n",
            "1  -0.299645  -0.876496  -1.323764  -0.282579  -0.938997  -1.383577   \n",
            "2  -0.284160  -0.873014  -1.432610  -0.266014  -0.930987  -1.481315   \n",
            "3  -0.246819  -0.866061  -1.383165  -0.227279  -0.922747  -1.444332   \n",
            "4  -0.272222  -0.927351  -1.527996  -0.250786  -0.984679  -1.585891   \n",
            "\n",
            "   x2_scaled  y2_scaled  z2_scaled  x3_scaled  ...  acc_norm_24  acc_norm_25  \\\n",
            "0  -0.261884  -0.966418  -1.157390  -0.250042  ...     0.000000     0.000000   \n",
            "1  -0.272361  -0.938779  -1.383261  -0.260979  ...     0.016667     0.488667   \n",
            "2  -0.254959  -0.932323  -1.481120  -0.243228  ...     0.005572     0.091183   \n",
            "3  -0.216048  -0.920523  -1.444169  -0.203206  ...     0.021611     0.145332   \n",
            "4  -0.238511  -0.984040  -1.585540  -0.224116  ...     0.025171     0.277341   \n",
            "\n",
            "   acc_norm_26  acc_norm_27  acc_norm_28  acc_norm_29  acc_norm_30  \\\n",
            "0     0.000000     0.000000     0.000000     0.000000     0.000000   \n",
            "1     0.716932     0.364992     0.752447     0.343965     0.760917   \n",
            "2     0.225560     0.180279     0.266070     0.188115     0.269396   \n",
            "3     0.376545     0.049705     0.391597     0.049558     0.390006   \n",
            "4     0.949315     0.443309     1.236868     0.457555     1.264072   \n",
            "\n",
            "   acc_norm_31  acc_norm_32  acc_mean_norm  \n",
            "0     0.000000     0.000000       0.000000  \n",
            "1     0.309869     0.777501       0.256712  \n",
            "2     0.231439     0.262207       0.126388  \n",
            "3     0.101658     0.380043       0.132698  \n",
            "4     0.597051     1.262342       0.269238  \n",
            "\n",
            "[5 rows x 193 columns]\n"
          ]
        }
      ]
    },
    {
      "cell_type": "code",
      "source": [
        "# Identify feature columns (excluding ID and label)\n",
        "feature_cols = [col for col in df.columns if col not in ['video_name', 'frame_id', 'label_x', 'label_y']]\n",
        "\n",
        "# Inspect feature_cols\n",
        "print(\"Feature Columns:\", feature_cols)"
      ],
      "metadata": {
        "id": "4OttRL41klsN",
        "colab": {
          "base_uri": "https://localhost:8080/"
        },
        "executionInfo": {
          "status": "ok",
          "timestamp": 1747558707492,
          "user_tz": -330,
          "elapsed": 4,
          "user": {
            "displayName": "",
            "userId": ""
          }
        },
        "outputId": "c37d38b1-bfe7-4c2e-9268-64f2f8ed73d1"
      },
      "id": "4OttRL41klsN",
      "execution_count": null,
      "outputs": [
        {
          "output_type": "stream",
          "name": "stdout",
          "text": [
            "Feature Columns: ['x0_scaled', 'y0_scaled', 'z0_scaled', 'x1_scaled', 'y1_scaled', 'z1_scaled', 'x2_scaled', 'y2_scaled', 'z2_scaled', 'x3_scaled', 'y3_scaled', 'z3_scaled', 'x4_scaled', 'y4_scaled', 'z4_scaled', 'x5_scaled', 'y5_scaled', 'z5_scaled', 'x6_scaled', 'y6_scaled', 'z6_scaled', 'x7_scaled', 'y7_scaled', 'z7_scaled', 'x8_scaled', 'y8_scaled', 'z8_scaled', 'x9_scaled', 'y9_scaled', 'z9_scaled', 'x10_scaled', 'y10_scaled', 'z10_scaled', 'x11_scaled', 'y11_scaled', 'z11_scaled', 'x12_scaled', 'y12_scaled', 'z12_scaled', 'x13_scaled', 'y13_scaled', 'z13_scaled', 'x14_scaled', 'y14_scaled', 'z14_scaled', 'x15_scaled', 'y15_scaled', 'z15_scaled', 'x16_scaled', 'y16_scaled', 'z16_scaled', 'x17_scaled', 'y17_scaled', 'z17_scaled', 'x18_scaled', 'y18_scaled', 'z18_scaled', 'x19_scaled', 'y19_scaled', 'z19_scaled', 'x20_scaled', 'y20_scaled', 'z20_scaled', 'x21_scaled', 'y21_scaled', 'z21_scaled', 'x22_scaled', 'y22_scaled', 'z22_scaled', 'x23_scaled', 'y23_scaled', 'z23_scaled', 'x24_scaled', 'y24_scaled', 'z24_scaled', 'x25_scaled', 'y25_scaled', 'z25_scaled', 'x26_scaled', 'y26_scaled', 'z26_scaled', 'x27_scaled', 'y27_scaled', 'z27_scaled', 'x28_scaled', 'y28_scaled', 'z28_scaled', 'x29_scaled', 'y29_scaled', 'z29_scaled', 'x30_scaled', 'y30_scaled', 'z30_scaled', 'x31_scaled', 'y31_scaled', 'z31_scaled', 'x32_scaled', 'y32_scaled', 'z32_scaled', 'shoulder_width', 'hip_width', 'upper_arm_left', 'upper_arm_right', 'lower_arm_left', 'lower_arm_right', 'upper_leg_left', 'upper_leg_right', 'lower_leg_left', 'lower_leg_right', 'symmetry_upper_arm', 'symmetry_lower_arm', 'symmetry_upper_leg', 'symmetry_lower_leg', 'left_elbow', 'right_elbow', 'left_shoulder', 'right_shoulder', 'left_knee', 'right_knee', 'left_hip', 'right_hip', 'vel_norm_0', 'vel_norm_1', 'vel_norm_2', 'vel_norm_3', 'vel_norm_4', 'vel_norm_5', 'vel_norm_6', 'vel_norm_7', 'vel_norm_8', 'vel_norm_9', 'vel_norm_10', 'vel_norm_11', 'vel_norm_12', 'vel_norm_13', 'vel_norm_14', 'vel_norm_15', 'vel_norm_16', 'vel_norm_17', 'vel_norm_18', 'vel_norm_19', 'vel_norm_20', 'vel_norm_21', 'vel_norm_22', 'vel_norm_23', 'vel_norm_24', 'vel_norm_25', 'vel_norm_26', 'vel_norm_27', 'vel_norm_28', 'vel_norm_29', 'vel_norm_30', 'vel_norm_31', 'vel_norm_32', 'vel_mean_norm', 'acc_norm_0', 'acc_norm_1', 'acc_norm_2', 'acc_norm_3', 'acc_norm_4', 'acc_norm_5', 'acc_norm_6', 'acc_norm_7', 'acc_norm_8', 'acc_norm_9', 'acc_norm_10', 'acc_norm_11', 'acc_norm_12', 'acc_norm_13', 'acc_norm_14', 'acc_norm_15', 'acc_norm_16', 'acc_norm_17', 'acc_norm_18', 'acc_norm_19', 'acc_norm_20', 'acc_norm_21', 'acc_norm_22', 'acc_norm_23', 'acc_norm_24', 'acc_norm_25', 'acc_norm_26', 'acc_norm_27', 'acc_norm_28', 'acc_norm_29', 'acc_norm_30', 'acc_norm_31', 'acc_norm_32', 'acc_mean_norm']\n"
          ]
        }
      ]
    },
    {
      "cell_type": "code",
      "source": [
        "# Ensure proper sorting\n",
        "df = df.sort_values(by=['video_name', 'frame_id'])\n",
        "\n",
        "# Group by video and stack sequences\n",
        "X = []\n",
        "y = []\n",
        "\n",
        "for video_id, group in df.groupby('video_name'):\n",
        "    group = group.sort_values('frame_id')\n",
        "    features = group[feature_cols].values\n",
        "    label = group['label_x'].iloc[0]  # Assuming label per video\n",
        "\n",
        "    X.append(features)\n",
        "    y.append(label)"
      ],
      "metadata": {
        "id": "diuiyxI8luVV"
      },
      "id": "diuiyxI8luVV",
      "execution_count": null,
      "outputs": []
    },
    {
      "cell_type": "code",
      "source": [
        "# Padding sequences to same length\n",
        "from tensorflow.keras.preprocessing.sequence import pad_sequences\n",
        "\n",
        "X = pad_sequences(X, padding='post', dtype='float32')  # shape -> (num_videos, max_frames, num_features)\n",
        "y = np.array(y)\n",
        "\n",
        "print(\"X shape:\", X.shape)\n",
        "print(\"y shape:\", y.shape)"
      ],
      "metadata": {
        "colab": {
          "base_uri": "https://localhost:8080/"
        },
        "id": "dqXFmIL4nryX",
        "executionInfo": {
          "status": "ok",
          "timestamp": 1747558800333,
          "user_tz": -330,
          "elapsed": 3,
          "user": {
            "displayName": "",
            "userId": ""
          }
        },
        "outputId": "4672cfe5-8e1b-4a70-b821-a6971230fb89"
      },
      "id": "dqXFmIL4nryX",
      "execution_count": null,
      "outputs": [
        {
          "output_type": "stream",
          "name": "stdout",
          "text": [
            "X shape: (994, 34, 189)\n",
            "y shape: (994,)\n"
          ]
        }
      ]
    },
    {
      "cell_type": "code",
      "source": [
        "# Checking the labels\n",
        "print(y[:5])"
      ],
      "metadata": {
        "colab": {
          "base_uri": "https://localhost:8080/"
        },
        "id": "fXXQ3ZFqnxVu",
        "executionInfo": {
          "status": "ok",
          "timestamp": 1747558836691,
          "user_tz": -330,
          "elapsed": 5,
          "user": {
            "displayName": "",
            "userId": ""
          }
        },
        "outputId": "92682844-6044-48ae-c070-178793061f90"
      },
      "id": "fXXQ3ZFqnxVu",
      "execution_count": null,
      "outputs": [
        {
          "output_type": "stream",
          "name": "stdout",
          "text": [
            "['Bench_Press' 'Bench_Press' 'Bench_Press' 'Bench_Press' 'Bench_Press']\n"
          ]
        }
      ]
    },
    {
      "cell_type": "code",
      "source": [
        "# Encoding the labels\n",
        "from sklearn.preprocessing import LabelEncoder\n",
        "\n",
        "le = LabelEncoder()\n",
        "y_encoded = le.fit_transform(y)\n",
        "\n",
        "num_classes = len(le.classes_)\n",
        "print(\"Number of classes:\", num_classes)"
      ],
      "metadata": {
        "colab": {
          "base_uri": "https://localhost:8080/"
        },
        "id": "Z5W3ANv0n4ne",
        "executionInfo": {
          "status": "ok",
          "timestamp": 1747558856601,
          "user_tz": -330,
          "elapsed": 641,
          "user": {
            "displayName": "",
            "userId": ""
          }
        },
        "outputId": "daadd5da-52e8-4745-99c5-76aaf93ffd95"
      },
      "id": "Z5W3ANv0n4ne",
      "execution_count": null,
      "outputs": [
        {
          "output_type": "stream",
          "name": "stdout",
          "text": [
            "Number of classes: 8\n"
          ]
        }
      ]
    },
    {
      "cell_type": "code",
      "source": [
        "# Installing TCN Module for the neural network\n",
        "!pip install keras-tcn"
      ],
      "metadata": {
        "colab": {
          "base_uri": "https://localhost:8080/"
        },
        "id": "ib832xU2n-7U",
        "executionInfo": {
          "status": "ok",
          "timestamp": 1747558893288,
          "user_tz": -330,
          "elapsed": 3415,
          "user": {
            "displayName": "",
            "userId": ""
          }
        },
        "outputId": "85d34e75-e329-4b0d-fd28-2db420f2df8b"
      },
      "id": "ib832xU2n-7U",
      "execution_count": null,
      "outputs": [
        {
          "output_type": "stream",
          "name": "stdout",
          "text": [
            "Collecting keras-tcn\n",
            "  Downloading keras_tcn-3.5.6-py3-none-any.whl.metadata (13 kB)\n",
            "Requirement already satisfied: numpy in /usr/local/lib/python3.10/dist-packages (from keras-tcn) (1.26.4)\n",
            "Requirement already satisfied: tensorflow in /usr/local/lib/python3.10/dist-packages (from keras-tcn) (2.17.1)\n",
            "Requirement already satisfied: absl-py>=1.0.0 in /usr/local/lib/python3.10/dist-packages (from tensorflow->keras-tcn) (1.4.0)\n",
            "Requirement already satisfied: astunparse>=1.6.0 in /usr/local/lib/python3.10/dist-packages (from tensorflow->keras-tcn) (1.6.3)\n",
            "Requirement already satisfied: flatbuffers>=24.3.25 in /usr/local/lib/python3.10/dist-packages (from tensorflow->keras-tcn) (24.12.23)\n",
            "Requirement already satisfied: gast!=0.5.0,!=0.5.1,!=0.5.2,>=0.2.1 in /usr/local/lib/python3.10/dist-packages (from tensorflow->keras-tcn) (0.6.0)\n",
            "Requirement already satisfied: google-pasta>=0.1.1 in /usr/local/lib/python3.10/dist-packages (from tensorflow->keras-tcn) (0.2.0)\n",
            "Requirement already satisfied: h5py>=3.10.0 in /usr/local/lib/python3.10/dist-packages (from tensorflow->keras-tcn) (3.12.1)\n",
            "Requirement already satisfied: libclang>=13.0.0 in /usr/local/lib/python3.10/dist-packages (from tensorflow->keras-tcn) (18.1.1)\n",
            "Requirement already satisfied: ml-dtypes<0.5.0,>=0.3.1 in /usr/local/lib/python3.10/dist-packages (from tensorflow->keras-tcn) (0.4.1)\n",
            "Requirement already satisfied: opt-einsum>=2.3.2 in /usr/local/lib/python3.10/dist-packages (from tensorflow->keras-tcn) (3.4.0)\n",
            "Requirement already satisfied: packaging in /usr/local/lib/python3.10/dist-packages (from tensorflow->keras-tcn) (24.2)\n",
            "Requirement already satisfied: protobuf!=4.21.0,!=4.21.1,!=4.21.2,!=4.21.3,!=4.21.4,!=4.21.5,<5.0.0dev,>=3.20.3 in /usr/local/lib/python3.10/dist-packages (from tensorflow->keras-tcn) (4.25.5)\n",
            "Requirement already satisfied: requests<3,>=2.21.0 in /usr/local/lib/python3.10/dist-packages (from tensorflow->keras-tcn) (2.32.3)\n",
            "Requirement already satisfied: setuptools in /usr/local/lib/python3.10/dist-packages (from tensorflow->keras-tcn) (69.5.1)\n",
            "Requirement already satisfied: six>=1.12.0 in /usr/local/lib/python3.10/dist-packages (from tensorflow->keras-tcn) (1.17.0)\n",
            "Requirement already satisfied: termcolor>=1.1.0 in /usr/local/lib/python3.10/dist-packages (from tensorflow->keras-tcn) (2.5.0)\n",
            "Requirement already satisfied: typing-extensions>=3.6.6 in /usr/local/lib/python3.10/dist-packages (from tensorflow->keras-tcn) (4.12.2)\n",
            "Requirement already satisfied: wrapt>=1.11.0 in /usr/local/lib/python3.10/dist-packages (from tensorflow->keras-tcn) (1.17.0)\n",
            "Requirement already satisfied: grpcio<2.0,>=1.24.3 in /usr/local/lib/python3.10/dist-packages (from tensorflow->keras-tcn) (1.69.0)\n",
            "Requirement already satisfied: tensorboard<2.18,>=2.17 in /usr/local/lib/python3.10/dist-packages (from tensorflow->keras-tcn) (2.17.1)\n",
            "Requirement already satisfied: keras>=3.2.0 in /usr/local/lib/python3.10/dist-packages (from tensorflow->keras-tcn) (3.5.0)\n",
            "Requirement already satisfied: tensorflow-io-gcs-filesystem>=0.23.1 in /usr/local/lib/python3.10/dist-packages (from tensorflow->keras-tcn) (0.37.1)\n",
            "Requirement already satisfied: wheel<1.0,>=0.23.0 in /usr/local/lib/python3.10/dist-packages (from astunparse>=1.6.0->tensorflow->keras-tcn) (0.45.1)\n",
            "Requirement already satisfied: rich in /usr/local/lib/python3.10/dist-packages (from keras>=3.2.0->tensorflow->keras-tcn) (13.9.4)\n",
            "Requirement already satisfied: namex in /usr/local/lib/python3.10/dist-packages (from keras>=3.2.0->tensorflow->keras-tcn) (0.0.8)\n",
            "Requirement already satisfied: optree in /usr/local/lib/python3.10/dist-packages (from keras>=3.2.0->tensorflow->keras-tcn) (0.13.1)\n",
            "Requirement already satisfied: charset-normalizer<4,>=2 in /usr/local/lib/python3.10/dist-packages (from requests<3,>=2.21.0->tensorflow->keras-tcn) (3.4.1)\n",
            "Requirement already satisfied: idna<4,>=2.5 in /usr/local/lib/python3.10/dist-packages (from requests<3,>=2.21.0->tensorflow->keras-tcn) (3.10)\n",
            "Requirement already satisfied: urllib3<3,>=1.21.1 in /usr/local/lib/python3.10/dist-packages (from requests<3,>=2.21.0->tensorflow->keras-tcn) (2.3.0)\n",
            "Requirement already satisfied: certifi>=2017.4.17 in /usr/local/lib/python3.10/dist-packages (from requests<3,>=2.21.0->tensorflow->keras-tcn) (2024.12.14)\n",
            "Requirement already satisfied: markdown>=2.6.8 in /usr/local/lib/python3.10/dist-packages (from tensorboard<2.18,>=2.17->tensorflow->keras-tcn) (3.7)\n",
            "Requirement already satisfied: tensorboard-data-server<0.8.0,>=0.7.0 in /usr/local/lib/python3.10/dist-packages (from tensorboard<2.18,>=2.17->tensorflow->keras-tcn) (0.7.2)\n",
            "Requirement already satisfied: werkzeug>=1.0.1 in /usr/local/lib/python3.10/dist-packages (from tensorboard<2.18,>=2.17->tensorflow->keras-tcn) (3.1.3)\n",
            "Requirement already satisfied: MarkupSafe>=2.1.1 in /usr/local/lib/python3.10/dist-packages (from werkzeug>=1.0.1->tensorboard<2.18,>=2.17->tensorflow->keras-tcn) (3.0.2)\n",
            "Requirement already satisfied: markdown-it-py>=2.2.0 in /usr/local/lib/python3.10/dist-packages (from rich->keras>=3.2.0->tensorflow->keras-tcn) (3.0.0)\n",
            "Requirement already satisfied: pygments<3.0.0,>=2.13.0 in /usr/local/lib/python3.10/dist-packages (from rich->keras>=3.2.0->tensorflow->keras-tcn) (2.18.0)\n",
            "Requirement already satisfied: mdurl~=0.1 in /usr/local/lib/python3.10/dist-packages (from markdown-it-py>=2.2.0->rich->keras>=3.2.0->tensorflow->keras-tcn) (0.1.2)\n",
            "Downloading keras_tcn-3.5.6-py3-none-any.whl (12 kB)\n",
            "Installing collected packages: keras-tcn\n",
            "Successfully installed keras-tcn-3.5.6\n"
          ]
        }
      ]
    },
    {
      "cell_type": "code",
      "source": [
        "from tensorflow.keras.models import Sequential\n",
        "from tensorflow.keras.layers import Dense, Dropout, Input, Masking\n",
        "from tcn import TCN\n",
        "\n",
        "# Define the sequential model\n",
        "model = Sequential([\n",
        "    # Input layer defining the expected input shape: (max_frames, num_features)\n",
        "    Input(shape=(X.shape[1], X.shape[2])),\n",
        "    # Masking layer to handle padded sequences (values equal to 0.0 will be masked)\n",
        "    Masking(mask_value=0.0),\n",
        "    # Temporal Convolutional Network layer\n",
        "    TCN(nb_filters=64, kernel_size=5, return_sequences=False),\n",
        "    # Dropout layer to prevent overfitting\n",
        "    Dropout(0.3),\n",
        "    # Dense layer with ReLU activation\n",
        "    Dense(128, activation='relu'),\n",
        "    # Another dropout layer\n",
        "    Dropout(0.2),\n",
        "    # Output layer with softmax activation for multi-class classification\n",
        "    Dense(num_classes, activation='softmax')\n",
        "])\n",
        "\n",
        "# Compile the model\n",
        "model.compile(optimizer='adam',\n",
        "              loss='sparse_categorical_crossentropy',\n",
        "              metrics=['accuracy'])\n",
        "\n",
        "# Print a summary of the model architecture\n",
        "model.summary()"
      ],
      "metadata": {
        "colab": {
          "base_uri": "https://localhost:8080/",
          "height": 376
        },
        "id": "OS0D39tRoHL1",
        "executionInfo": {
          "status": "ok",
          "timestamp": 1747570389432,
          "user_tz": -330,
          "elapsed": 8,
          "user": {
            "displayName": "",
            "userId": ""
          }
        },
        "outputId": "060a77cb-a858-4657-aa25-059af2e90ca8"
      },
      "id": "OS0D39tRoHL1",
      "execution_count": 30,
      "outputs": [
        {
          "output_type": "stream",
          "name": "stderr",
          "text": [
            "/usr/local/lib/python3.10/dist-packages/keras/src/layers/layer.py:934: UserWarning: Layer 'tcn_2' (of type TCN) was passed an input with a mask attached to it. However, this layer does not support masking and will therefore destroy the mask information. Downstream layers will not see the mask.\n",
            "  warnings.warn(\n"
          ]
        },
        {
          "output_type": "display_data",
          "data": {
            "text/plain": [
              "\u001b[1mModel: \"sequential_2\"\u001b[0m\n"
            ],
            "text/html": [
              "<pre style=\"white-space:pre;overflow-x:auto;line-height:normal;font-family:Menlo,'DejaVu Sans Mono',consolas,'Courier New',monospace\"><span style=\"font-weight: bold\">Model: \"sequential_2\"</span>\n",
              "</pre>\n"
            ]
          },
          "metadata": {}
        },
        {
          "output_type": "display_data",
          "data": {
            "text/plain": [
              "┏━━━━━━━━━━━━━━━━━━━━━━━━━━━━━━━━━━━━━━┳━━━━━━━━━━━━━━━━━━━━━━━━━━━━━┳━━━━━━━━━━━━━━━━━┓\n",
              "┃\u001b[1m \u001b[0m\u001b[1mLayer (type)                        \u001b[0m\u001b[1m \u001b[0m┃\u001b[1m \u001b[0m\u001b[1mOutput Shape               \u001b[0m\u001b[1m \u001b[0m┃\u001b[1m \u001b[0m\u001b[1m        Param #\u001b[0m\u001b[1m \u001b[0m┃\n",
              "┡━━━━━━━━━━━━━━━━━━━━━━━━━━━━━━━━━━━━━━╇━━━━━━━━━━━━━━━━━━━━━━━━━━━━━╇━━━━━━━━━━━━━━━━━┩\n",
              "│ masking_2 (\u001b[38;5;33mMasking\u001b[0m)                  │ (\u001b[38;5;45mNone\u001b[0m, \u001b[38;5;34m34\u001b[0m, \u001b[38;5;34m189\u001b[0m)             │               \u001b[38;5;34m0\u001b[0m │\n",
              "├──────────────────────────────────────┼─────────────────────────────┼─────────────────┤\n",
              "│ tcn_2 (\u001b[38;5;33mTCN\u001b[0m)                          │ (\u001b[38;5;45mNone\u001b[0m, \u001b[38;5;34m64\u001b[0m)                  │         \u001b[38;5;34m298,688\u001b[0m │\n",
              "├──────────────────────────────────────┼─────────────────────────────┼─────────────────┤\n",
              "│ dropout_4 (\u001b[38;5;33mDropout\u001b[0m)                  │ (\u001b[38;5;45mNone\u001b[0m, \u001b[38;5;34m64\u001b[0m)                  │               \u001b[38;5;34m0\u001b[0m │\n",
              "├──────────────────────────────────────┼─────────────────────────────┼─────────────────┤\n",
              "│ dense_4 (\u001b[38;5;33mDense\u001b[0m)                      │ (\u001b[38;5;45mNone\u001b[0m, \u001b[38;5;34m128\u001b[0m)                 │           \u001b[38;5;34m8,320\u001b[0m │\n",
              "├──────────────────────────────────────┼─────────────────────────────┼─────────────────┤\n",
              "│ dropout_5 (\u001b[38;5;33mDropout\u001b[0m)                  │ (\u001b[38;5;45mNone\u001b[0m, \u001b[38;5;34m128\u001b[0m)                 │               \u001b[38;5;34m0\u001b[0m │\n",
              "├──────────────────────────────────────┼─────────────────────────────┼─────────────────┤\n",
              "│ dense_5 (\u001b[38;5;33mDense\u001b[0m)                      │ (\u001b[38;5;45mNone\u001b[0m, \u001b[38;5;34m8\u001b[0m)                   │           \u001b[38;5;34m1,032\u001b[0m │\n",
              "└──────────────────────────────────────┴─────────────────────────────┴─────────────────┘\n"
            ],
            "text/html": [
              "<pre style=\"white-space:pre;overflow-x:auto;line-height:normal;font-family:Menlo,'DejaVu Sans Mono',consolas,'Courier New',monospace\">┏━━━━━━━━━━━━━━━━━━━━━━━━━━━━━━━━━━━━━━┳━━━━━━━━━━━━━━━━━━━━━━━━━━━━━┳━━━━━━━━━━━━━━━━━┓\n",
              "┃<span style=\"font-weight: bold\"> Layer (type)                         </span>┃<span style=\"font-weight: bold\"> Output Shape                </span>┃<span style=\"font-weight: bold\">         Param # </span>┃\n",
              "┡━━━━━━━━━━━━━━━━━━━━━━━━━━━━━━━━━━━━━━╇━━━━━━━━━━━━━━━━━━━━━━━━━━━━━╇━━━━━━━━━━━━━━━━━┩\n",
              "│ masking_2 (<span style=\"color: #0087ff; text-decoration-color: #0087ff\">Masking</span>)                  │ (<span style=\"color: #00d7ff; text-decoration-color: #00d7ff\">None</span>, <span style=\"color: #00af00; text-decoration-color: #00af00\">34</span>, <span style=\"color: #00af00; text-decoration-color: #00af00\">189</span>)             │               <span style=\"color: #00af00; text-decoration-color: #00af00\">0</span> │\n",
              "├──────────────────────────────────────┼─────────────────────────────┼─────────────────┤\n",
              "│ tcn_2 (<span style=\"color: #0087ff; text-decoration-color: #0087ff\">TCN</span>)                          │ (<span style=\"color: #00d7ff; text-decoration-color: #00d7ff\">None</span>, <span style=\"color: #00af00; text-decoration-color: #00af00\">64</span>)                  │         <span style=\"color: #00af00; text-decoration-color: #00af00\">298,688</span> │\n",
              "├──────────────────────────────────────┼─────────────────────────────┼─────────────────┤\n",
              "│ dropout_4 (<span style=\"color: #0087ff; text-decoration-color: #0087ff\">Dropout</span>)                  │ (<span style=\"color: #00d7ff; text-decoration-color: #00d7ff\">None</span>, <span style=\"color: #00af00; text-decoration-color: #00af00\">64</span>)                  │               <span style=\"color: #00af00; text-decoration-color: #00af00\">0</span> │\n",
              "├──────────────────────────────────────┼─────────────────────────────┼─────────────────┤\n",
              "│ dense_4 (<span style=\"color: #0087ff; text-decoration-color: #0087ff\">Dense</span>)                      │ (<span style=\"color: #00d7ff; text-decoration-color: #00d7ff\">None</span>, <span style=\"color: #00af00; text-decoration-color: #00af00\">128</span>)                 │           <span style=\"color: #00af00; text-decoration-color: #00af00\">8,320</span> │\n",
              "├──────────────────────────────────────┼─────────────────────────────┼─────────────────┤\n",
              "│ dropout_5 (<span style=\"color: #0087ff; text-decoration-color: #0087ff\">Dropout</span>)                  │ (<span style=\"color: #00d7ff; text-decoration-color: #00d7ff\">None</span>, <span style=\"color: #00af00; text-decoration-color: #00af00\">128</span>)                 │               <span style=\"color: #00af00; text-decoration-color: #00af00\">0</span> │\n",
              "├──────────────────────────────────────┼─────────────────────────────┼─────────────────┤\n",
              "│ dense_5 (<span style=\"color: #0087ff; text-decoration-color: #0087ff\">Dense</span>)                      │ (<span style=\"color: #00d7ff; text-decoration-color: #00d7ff\">None</span>, <span style=\"color: #00af00; text-decoration-color: #00af00\">8</span>)                   │           <span style=\"color: #00af00; text-decoration-color: #00af00\">1,032</span> │\n",
              "└──────────────────────────────────────┴─────────────────────────────┴─────────────────┘\n",
              "</pre>\n"
            ]
          },
          "metadata": {}
        },
        {
          "output_type": "display_data",
          "data": {
            "text/plain": [
              "\u001b[1m Total params: \u001b[0m\u001b[38;5;34m308,040\u001b[0m (1.18 MB)\n"
            ],
            "text/html": [
              "<pre style=\"white-space:pre;overflow-x:auto;line-height:normal;font-family:Menlo,'DejaVu Sans Mono',consolas,'Courier New',monospace\"><span style=\"font-weight: bold\"> Total params: </span><span style=\"color: #00af00; text-decoration-color: #00af00\">308,040</span> (1.18 MB)\n",
              "</pre>\n"
            ]
          },
          "metadata": {}
        },
        {
          "output_type": "display_data",
          "data": {
            "text/plain": [
              "\u001b[1m Trainable params: \u001b[0m\u001b[38;5;34m308,040\u001b[0m (1.18 MB)\n"
            ],
            "text/html": [
              "<pre style=\"white-space:pre;overflow-x:auto;line-height:normal;font-family:Menlo,'DejaVu Sans Mono',consolas,'Courier New',monospace\"><span style=\"font-weight: bold\"> Trainable params: </span><span style=\"color: #00af00; text-decoration-color: #00af00\">308,040</span> (1.18 MB)\n",
              "</pre>\n"
            ]
          },
          "metadata": {}
        },
        {
          "output_type": "display_data",
          "data": {
            "text/plain": [
              "\u001b[1m Non-trainable params: \u001b[0m\u001b[38;5;34m0\u001b[0m (0.00 B)\n"
            ],
            "text/html": [
              "<pre style=\"white-space:pre;overflow-x:auto;line-height:normal;font-family:Menlo,'DejaVu Sans Mono',consolas,'Courier New',monospace\"><span style=\"font-weight: bold\"> Non-trainable params: </span><span style=\"color: #00af00; text-decoration-color: #00af00\">0</span> (0.00 B)\n",
              "</pre>\n"
            ]
          },
          "metadata": {}
        }
      ]
    },
    {
      "cell_type": "code",
      "source": [
        "from sklearn.model_selection import train_test_split\n",
        "\n",
        "# Split data: 80% train, 20% validation (stratified)\n",
        "X_train, X_val, y_train, y_val = train_test_split(X, y_encoded, test_size=0.2, stratify=y_encoded, random_state=42)\n",
        "\n",
        "# Train the model\n",
        "model.fit(X_train, y_train, epochs=50, batch_size=8, validation_data=(X_val, y_val))"
      ],
      "metadata": {
        "colab": {
          "base_uri": "https://localhost:8080/"
        },
        "id": "lARZVSnNowH_",
        "executionInfo": {
          "status": "ok",
          "timestamp": 1747570550234,
          "user_tz": -330,
          "elapsed": 115849,
          "user": {
            "displayName": "",
            "userId": ""
          }
        },
        "outputId": "19fbfd31-cf87-414a-e8d8-afd72a3d8ffd"
      },
      "id": "lARZVSnNowH_",
      "execution_count": 32,
      "outputs": [
        {
          "output_type": "stream",
          "name": "stdout",
          "text": [
            "Epoch 1/50\n",
            "\u001b[1m100/100\u001b[0m \u001b[32m━━━━━━━━━━━━━━━━━━━━\u001b[0m\u001b[37m\u001b[0m \u001b[1m2s\u001b[0m 22ms/step - accuracy: 0.3042 - loss: 1.6500 - val_accuracy: 0.3317 - val_loss: 1.7058\n",
            "Epoch 2/50\n",
            "\u001b[1m100/100\u001b[0m \u001b[32m━━━━━━━━━━━━━━━━━━━━\u001b[0m\u001b[37m\u001b[0m \u001b[1m2s\u001b[0m 22ms/step - accuracy: 0.3800 - loss: 1.5557 - val_accuracy: 0.3116 - val_loss: 1.7818\n",
            "Epoch 3/50\n",
            "\u001b[1m100/100\u001b[0m \u001b[32m━━━━━━━━━━━━━━━━━━━━\u001b[0m\u001b[37m\u001b[0m \u001b[1m2s\u001b[0m 22ms/step - accuracy: 0.4036 - loss: 1.5677 - val_accuracy: 0.2563 - val_loss: 1.8582\n",
            "Epoch 4/50\n",
            "\u001b[1m100/100\u001b[0m \u001b[32m━━━━━━━━━━━━━━━━━━━━\u001b[0m\u001b[37m\u001b[0m \u001b[1m2s\u001b[0m 22ms/step - accuracy: 0.3943 - loss: 1.5159 - val_accuracy: 0.3618 - val_loss: 1.6550\n",
            "Epoch 5/50\n",
            "\u001b[1m100/100\u001b[0m \u001b[32m━━━━━━━━━━━━━━━━━━━━\u001b[0m\u001b[37m\u001b[0m \u001b[1m2s\u001b[0m 22ms/step - accuracy: 0.4066 - loss: 1.4742 - val_accuracy: 0.3568 - val_loss: 1.6541\n",
            "Epoch 6/50\n",
            "\u001b[1m100/100\u001b[0m \u001b[32m━━━━━━━━━━━━━━━━━━━━\u001b[0m\u001b[37m\u001b[0m \u001b[1m2s\u001b[0m 22ms/step - accuracy: 0.4306 - loss: 1.4405 - val_accuracy: 0.3869 - val_loss: 1.7114\n",
            "Epoch 7/50\n",
            "\u001b[1m100/100\u001b[0m \u001b[32m━━━━━━━━━━━━━━━━━━━━\u001b[0m\u001b[37m\u001b[0m \u001b[1m2s\u001b[0m 22ms/step - accuracy: 0.4667 - loss: 1.3914 - val_accuracy: 0.3467 - val_loss: 1.5306\n",
            "Epoch 8/50\n",
            "\u001b[1m100/100\u001b[0m \u001b[32m━━━━━━━━━━━━━━━━━━━━\u001b[0m\u001b[37m\u001b[0m \u001b[1m3s\u001b[0m 22ms/step - accuracy: 0.4833 - loss: 1.3236 - val_accuracy: 0.4070 - val_loss: 1.6047\n",
            "Epoch 9/50\n",
            "\u001b[1m100/100\u001b[0m \u001b[32m━━━━━━━━━━━━━━━━━━━━\u001b[0m\u001b[37m\u001b[0m \u001b[1m2s\u001b[0m 23ms/step - accuracy: 0.4969 - loss: 1.3120 - val_accuracy: 0.3467 - val_loss: 1.6551\n",
            "Epoch 10/50\n",
            "\u001b[1m100/100\u001b[0m \u001b[32m━━━━━━━━━━━━━━━━━━━━\u001b[0m\u001b[37m\u001b[0m \u001b[1m2s\u001b[0m 22ms/step - accuracy: 0.5344 - loss: 1.2046 - val_accuracy: 0.3819 - val_loss: 1.6955\n",
            "Epoch 11/50\n",
            "\u001b[1m100/100\u001b[0m \u001b[32m━━━━━━━━━━━━━━━━━━━━\u001b[0m\u001b[37m\u001b[0m \u001b[1m2s\u001b[0m 22ms/step - accuracy: 0.5437 - loss: 1.2744 - val_accuracy: 0.4271 - val_loss: 1.5038\n",
            "Epoch 12/50\n",
            "\u001b[1m100/100\u001b[0m \u001b[32m━━━━━━━━━━━━━━━━━━━━\u001b[0m\u001b[37m\u001b[0m \u001b[1m2s\u001b[0m 22ms/step - accuracy: 0.5738 - loss: 1.1428 - val_accuracy: 0.4472 - val_loss: 1.5886\n",
            "Epoch 13/50\n",
            "\u001b[1m100/100\u001b[0m \u001b[32m━━━━━━━━━━━━━━━━━━━━\u001b[0m\u001b[37m\u001b[0m \u001b[1m2s\u001b[0m 22ms/step - accuracy: 0.5381 - loss: 1.2154 - val_accuracy: 0.3719 - val_loss: 1.6509\n",
            "Epoch 14/50\n",
            "\u001b[1m100/100\u001b[0m \u001b[32m━━━━━━━━━━━━━━━━━━━━\u001b[0m\u001b[37m\u001b[0m \u001b[1m2s\u001b[0m 22ms/step - accuracy: 0.5844 - loss: 1.0896 - val_accuracy: 0.4372 - val_loss: 1.7036\n",
            "Epoch 15/50\n",
            "\u001b[1m100/100\u001b[0m \u001b[32m━━━━━━━━━━━━━━━━━━━━\u001b[0m\u001b[37m\u001b[0m \u001b[1m2s\u001b[0m 23ms/step - accuracy: 0.6173 - loss: 1.0080 - val_accuracy: 0.3819 - val_loss: 1.8088\n",
            "Epoch 16/50\n",
            "\u001b[1m100/100\u001b[0m \u001b[32m━━━━━━━━━━━━━━━━━━━━\u001b[0m\u001b[37m\u001b[0m \u001b[1m2s\u001b[0m 22ms/step - accuracy: 0.5474 - loss: 1.1082 - val_accuracy: 0.4322 - val_loss: 1.7680\n",
            "Epoch 17/50\n",
            "\u001b[1m100/100\u001b[0m \u001b[32m━━━━━━━━━━━━━━━━━━━━\u001b[0m\u001b[37m\u001b[0m \u001b[1m2s\u001b[0m 22ms/step - accuracy: 0.6105 - loss: 0.9932 - val_accuracy: 0.4070 - val_loss: 1.6438\n",
            "Epoch 18/50\n",
            "\u001b[1m100/100\u001b[0m \u001b[32m━━━━━━━━━━━━━━━━━━━━\u001b[0m\u001b[37m\u001b[0m \u001b[1m2s\u001b[0m 22ms/step - accuracy: 0.6244 - loss: 0.9393 - val_accuracy: 0.4121 - val_loss: 1.8245\n",
            "Epoch 19/50\n",
            "\u001b[1m100/100\u001b[0m \u001b[32m━━━━━━━━━━━━━━━━━━━━\u001b[0m\u001b[37m\u001b[0m \u001b[1m2s\u001b[0m 22ms/step - accuracy: 0.6173 - loss: 1.0268 - val_accuracy: 0.4221 - val_loss: 1.8912\n",
            "Epoch 20/50\n",
            "\u001b[1m100/100\u001b[0m \u001b[32m━━━━━━━━━━━━━━━━━━━━\u001b[0m\u001b[37m\u001b[0m \u001b[1m2s\u001b[0m 22ms/step - accuracy: 0.6172 - loss: 1.0122 - val_accuracy: 0.4372 - val_loss: 1.9370\n",
            "Epoch 21/50\n",
            "\u001b[1m100/100\u001b[0m \u001b[32m━━━━━━━━━━━━━━━━━━━━\u001b[0m\u001b[37m\u001b[0m \u001b[1m2s\u001b[0m 22ms/step - accuracy: 0.6529 - loss: 0.8900 - val_accuracy: 0.4121 - val_loss: 1.8329\n",
            "Epoch 22/50\n",
            "\u001b[1m100/100\u001b[0m \u001b[32m━━━━━━━━━━━━━━━━━━━━\u001b[0m\u001b[37m\u001b[0m \u001b[1m2s\u001b[0m 22ms/step - accuracy: 0.7044 - loss: 0.8000 - val_accuracy: 0.4121 - val_loss: 1.9271\n",
            "Epoch 23/50\n",
            "\u001b[1m100/100\u001b[0m \u001b[32m━━━━━━━━━━━━━━━━━━━━\u001b[0m\u001b[37m\u001b[0m \u001b[1m2s\u001b[0m 23ms/step - accuracy: 0.6644 - loss: 0.8475 - val_accuracy: 0.4372 - val_loss: 1.8461\n",
            "Epoch 24/50\n",
            "\u001b[1m100/100\u001b[0m \u001b[32m━━━━━━━━━━━━━━━━━━━━\u001b[0m\u001b[37m\u001b[0m \u001b[1m2s\u001b[0m 22ms/step - accuracy: 0.6684 - loss: 0.9466 - val_accuracy: 0.3518 - val_loss: 2.0332\n",
            "Epoch 25/50\n",
            "\u001b[1m100/100\u001b[0m \u001b[32m━━━━━━━━━━━━━━━━━━━━\u001b[0m\u001b[37m\u001b[0m \u001b[1m2s\u001b[0m 22ms/step - accuracy: 0.6613 - loss: 0.8466 - val_accuracy: 0.4070 - val_loss: 1.7805\n",
            "Epoch 26/50\n",
            "\u001b[1m100/100\u001b[0m \u001b[32m━━━━━━━━━━━━━━━━━━━━\u001b[0m\u001b[37m\u001b[0m \u001b[1m2s\u001b[0m 22ms/step - accuracy: 0.6852 - loss: 0.8216 - val_accuracy: 0.4020 - val_loss: 1.8673\n",
            "Epoch 27/50\n",
            "\u001b[1m100/100\u001b[0m \u001b[32m━━━━━━━━━━━━━━━━━━━━\u001b[0m\u001b[37m\u001b[0m \u001b[1m2s\u001b[0m 22ms/step - accuracy: 0.6976 - loss: 0.7703 - val_accuracy: 0.4271 - val_loss: 1.9725\n",
            "Epoch 28/50\n",
            "\u001b[1m100/100\u001b[0m \u001b[32m━━━━━━━━━━━━━━━━━━━━\u001b[0m\u001b[37m\u001b[0m \u001b[1m2s\u001b[0m 22ms/step - accuracy: 0.7178 - loss: 0.7376 - val_accuracy: 0.3920 - val_loss: 2.2938\n",
            "Epoch 29/50\n",
            "\u001b[1m100/100\u001b[0m \u001b[32m━━━━━━━━━━━━━━━━━━━━\u001b[0m\u001b[37m\u001b[0m \u001b[1m2s\u001b[0m 22ms/step - accuracy: 0.7446 - loss: 0.7314 - val_accuracy: 0.4221 - val_loss: 1.7857\n",
            "Epoch 30/50\n",
            "\u001b[1m100/100\u001b[0m \u001b[32m━━━━━━━━━━━━━━━━━━━━\u001b[0m\u001b[37m\u001b[0m \u001b[1m2s\u001b[0m 23ms/step - accuracy: 0.7163 - loss: 0.7538 - val_accuracy: 0.4221 - val_loss: 2.1188\n",
            "Epoch 31/50\n",
            "\u001b[1m100/100\u001b[0m \u001b[32m━━━━━━━━━━━━━━━━━━━━\u001b[0m\u001b[37m\u001b[0m \u001b[1m2s\u001b[0m 23ms/step - accuracy: 0.7015 - loss: 0.8205 - val_accuracy: 0.4975 - val_loss: 1.8574\n",
            "Epoch 32/50\n",
            "\u001b[1m100/100\u001b[0m \u001b[32m━━━━━━━━━━━━━━━━━━━━\u001b[0m\u001b[37m\u001b[0m \u001b[1m2s\u001b[0m 23ms/step - accuracy: 0.7417 - loss: 0.6666 - val_accuracy: 0.4322 - val_loss: 2.2531\n",
            "Epoch 33/50\n",
            "\u001b[1m100/100\u001b[0m \u001b[32m━━━━━━━━━━━━━━━━━━━━\u001b[0m\u001b[37m\u001b[0m \u001b[1m2s\u001b[0m 23ms/step - accuracy: 0.7751 - loss: 0.5943 - val_accuracy: 0.4221 - val_loss: 2.1086\n",
            "Epoch 34/50\n",
            "\u001b[1m100/100\u001b[0m \u001b[32m━━━━━━━━━━━━━━━━━━━━\u001b[0m\u001b[37m\u001b[0m \u001b[1m2s\u001b[0m 22ms/step - accuracy: 0.7790 - loss: 0.6048 - val_accuracy: 0.4372 - val_loss: 2.1836\n",
            "Epoch 35/50\n",
            "\u001b[1m100/100\u001b[0m \u001b[32m━━━━━━━━━━━━━━━━━━━━\u001b[0m\u001b[37m\u001b[0m \u001b[1m2s\u001b[0m 22ms/step - accuracy: 0.7852 - loss: 0.5951 - val_accuracy: 0.3920 - val_loss: 2.5566\n",
            "Epoch 36/50\n",
            "\u001b[1m100/100\u001b[0m \u001b[32m━━━━━━━━━━━━━━━━━━━━\u001b[0m\u001b[37m\u001b[0m \u001b[1m2s\u001b[0m 22ms/step - accuracy: 0.7541 - loss: 0.6320 - val_accuracy: 0.4121 - val_loss: 2.3744\n",
            "Epoch 37/50\n",
            "\u001b[1m100/100\u001b[0m \u001b[32m━━━━━━━━━━━━━━━━━━━━\u001b[0m\u001b[37m\u001b[0m \u001b[1m2s\u001b[0m 22ms/step - accuracy: 0.7884 - loss: 0.5813 - val_accuracy: 0.3970 - val_loss: 2.4934\n",
            "Epoch 38/50\n",
            "\u001b[1m100/100\u001b[0m \u001b[32m━━━━━━━━━━━━━━━━━━━━\u001b[0m\u001b[37m\u001b[0m \u001b[1m2s\u001b[0m 22ms/step - accuracy: 0.7603 - loss: 0.7216 - val_accuracy: 0.4322 - val_loss: 2.6114\n",
            "Epoch 39/50\n",
            "\u001b[1m100/100\u001b[0m \u001b[32m━━━━━━━━━━━━━━━━━━━━\u001b[0m\u001b[37m\u001b[0m \u001b[1m2s\u001b[0m 23ms/step - accuracy: 0.7944 - loss: 0.5420 - val_accuracy: 0.4221 - val_loss: 2.9420\n",
            "Epoch 40/50\n",
            "\u001b[1m100/100\u001b[0m \u001b[32m━━━━━━━━━━━━━━━━━━━━\u001b[0m\u001b[37m\u001b[0m \u001b[1m2s\u001b[0m 23ms/step - accuracy: 0.7862 - loss: 0.5793 - val_accuracy: 0.4372 - val_loss: 2.3163\n",
            "Epoch 41/50\n",
            "\u001b[1m100/100\u001b[0m \u001b[32m━━━━━━━━━━━━━━━━━━━━\u001b[0m\u001b[37m\u001b[0m \u001b[1m2s\u001b[0m 23ms/step - accuracy: 0.7661 - loss: 0.6698 - val_accuracy: 0.3970 - val_loss: 2.3323\n",
            "Epoch 42/50\n",
            "\u001b[1m100/100\u001b[0m \u001b[32m━━━━━━━━━━━━━━━━━━━━\u001b[0m\u001b[37m\u001b[0m \u001b[1m2s\u001b[0m 23ms/step - accuracy: 0.7866 - loss: 0.6570 - val_accuracy: 0.4472 - val_loss: 2.5437\n",
            "Epoch 43/50\n",
            "\u001b[1m100/100\u001b[0m \u001b[32m━━━━━━━━━━━━━━━━━━━━\u001b[0m\u001b[37m\u001b[0m \u001b[1m2s\u001b[0m 23ms/step - accuracy: 0.8251 - loss: 0.4695 - val_accuracy: 0.4573 - val_loss: 2.9590\n",
            "Epoch 44/50\n",
            "\u001b[1m100/100\u001b[0m \u001b[32m━━━━━━━━━━━━━━━━━━━━\u001b[0m\u001b[37m\u001b[0m \u001b[1m2s\u001b[0m 22ms/step - accuracy: 0.7754 - loss: 0.7078 - val_accuracy: 0.4020 - val_loss: 2.2394\n",
            "Epoch 45/50\n",
            "\u001b[1m100/100\u001b[0m \u001b[32m━━━━━━━━━━━━━━━━━━━━\u001b[0m\u001b[37m\u001b[0m \u001b[1m3s\u001b[0m 25ms/step - accuracy: 0.7533 - loss: 0.6701 - val_accuracy: 0.4322 - val_loss: 2.2185\n",
            "Epoch 46/50\n",
            "\u001b[1m100/100\u001b[0m \u001b[32m━━━━━━━━━━━━━━━━━━━━\u001b[0m\u001b[37m\u001b[0m \u001b[1m2s\u001b[0m 24ms/step - accuracy: 0.8061 - loss: 0.5272 - val_accuracy: 0.4271 - val_loss: 2.5045\n",
            "Epoch 47/50\n",
            "\u001b[1m100/100\u001b[0m \u001b[32m━━━━━━━━━━━━━━━━━━━━\u001b[0m\u001b[37m\u001b[0m \u001b[1m3s\u001b[0m 26ms/step - accuracy: 0.8288 - loss: 0.4996 - val_accuracy: 0.4422 - val_loss: 2.3564\n",
            "Epoch 48/50\n",
            "\u001b[1m100/100\u001b[0m \u001b[32m━━━━━━━━━━━━━━━━━━━━\u001b[0m\u001b[37m\u001b[0m \u001b[1m2s\u001b[0m 24ms/step - accuracy: 0.8357 - loss: 0.4118 - val_accuracy: 0.4271 - val_loss: 2.8770\n",
            "Epoch 49/50\n",
            "\u001b[1m100/100\u001b[0m \u001b[32m━━━━━━━━━━━━━━━━━━━━\u001b[0m\u001b[37m\u001b[0m \u001b[1m2s\u001b[0m 24ms/step - accuracy: 0.8353 - loss: 0.5152 - val_accuracy: 0.4322 - val_loss: 2.8698\n",
            "Epoch 50/50\n",
            "\u001b[1m100/100\u001b[0m \u001b[32m━━━━━━━━━━━━━━━━━━━━\u001b[0m\u001b[37m\u001b[0m \u001b[1m2s\u001b[0m 23ms/step - accuracy: 0.8290 - loss: 0.4713 - val_accuracy: 0.4472 - val_loss: 2.7051\n"
          ]
        },
        {
          "output_type": "execute_result",
          "data": {
            "text/plain": [
              "<keras.src.callbacks.history.History at 0x7d994fbc04f0>"
            ]
          },
          "metadata": {},
          "execution_count": 32
        }
      ]
    },
    {
      "cell_type": "code",
      "source": [
        "# Evaluate on validation/test set\n",
        "val_loss, val_acc = model.evaluate(X_val, y_val)\n",
        "print(f\"Validation Accuracy: {val_acc:.4f}\")"
      ],
      "metadata": {
        "colab": {
          "base_uri": "https://localhost:8080/"
        },
        "id": "KzPGrCbSpJBQ",
        "executionInfo": {
          "status": "ok",
          "timestamp": 1747570725794,
          "user_tz": -330,
          "elapsed": 635,
          "user": {
            "displayName": "",
            "userId": ""
          }
        },
        "outputId": "e8319860-47d9-4766-b774-11ef0de83aa1"
      },
      "id": "KzPGrCbSpJBQ",
      "execution_count": 33,
      "outputs": [
        {
          "output_type": "stream",
          "name": "stdout",
          "text": [
            "\u001b[1m7/7\u001b[0m \u001b[32m━━━━━━━━━━━━━━━━━━━━\u001b[0m\u001b[37m\u001b[0m \u001b[1m0s\u001b[0m 16ms/step - accuracy: 0.4268 - loss: 2.6957\n",
            "Validation Accuracy: 0.4472\n"
          ]
        }
      ]
    },
    {
      "cell_type": "code",
      "source": [
        "# Save model in Keras format\n",
        "model.save('tcn_pose_model.keras')"
      ],
      "metadata": {
        "id": "JYuTrUavpfyT",
        "executionInfo": {
          "status": "ok",
          "timestamp": 1747570745399,
          "user_tz": -330,
          "elapsed": 603,
          "user": {
            "displayName": "",
            "userId": ""
          }
        }
      },
      "id": "JYuTrUavpfyT",
      "execution_count": 34,
      "outputs": []
    },
    {
      "cell_type": "code",
      "source": [
        "# Saving the model in the Cloud Storage Bucket\n",
        "!gsutil cp tcn_pose_model.keras gs://exercise-recognition-dataset/model/"
      ],
      "metadata": {
        "colab": {
          "base_uri": "https://localhost:8080/"
        },
        "id": "NmFAOW1nphKM",
        "executionInfo": {
          "status": "ok",
          "timestamp": 1747570749667,
          "user_tz": -330,
          "elapsed": 2422,
          "user": {
            "displayName": "",
            "userId": ""
          }
        },
        "outputId": "cc558a41-c6a0-4dce-bc30-4595a302e314"
      },
      "id": "NmFAOW1nphKM",
      "execution_count": 35,
      "outputs": [
        {
          "output_type": "stream",
          "name": "stdout",
          "text": [
            "Copying file://tcn_pose_model.keras [Content-Type=application/octet-stream]...\n",
            "-\n",
            "Operation completed over 1 objects/3.7 MiB.                                      \n"
          ]
        }
      ]
    },
    {
      "cell_type": "code",
      "source": [
        "import joblib\n",
        "\n",
        "joblib.dump(le, 'label_encoder.joblib')"
      ],
      "metadata": {
        "colab": {
          "base_uri": "https://localhost:8080/"
        },
        "id": "aRkWV_EfyvAm",
        "executionInfo": {
          "status": "ok",
          "timestamp": 1747561790654,
          "user_tz": -330,
          "elapsed": 603,
          "user": {
            "displayName": "",
            "userId": ""
          }
        },
        "outputId": "fc5406c7-c0e7-4cb6-8588-37ee461d4b8a"
      },
      "id": "aRkWV_EfyvAm",
      "execution_count": null,
      "outputs": [
        {
          "output_type": "execute_result",
          "data": {
            "text/plain": [
              "['label_encoder.joblib']"
            ]
          },
          "metadata": {},
          "execution_count": 27
        }
      ]
    },
    {
      "cell_type": "code",
      "source": [
        "!gsutil cp label_encoder.joblib gs://exercise-recognition-dataset/model/"
      ],
      "metadata": {
        "colab": {
          "base_uri": "https://localhost:8080/"
        },
        "id": "SG_XyRdGzLe6",
        "executionInfo": {
          "status": "ok",
          "timestamp": 1747561809721,
          "user_tz": -330,
          "elapsed": 2454,
          "user": {
            "displayName": "",
            "userId": ""
          }
        },
        "outputId": "e81ca2b5-9e7d-4bce-88f1-d4ded27f5f09"
      },
      "id": "SG_XyRdGzLe6",
      "execution_count": null,
      "outputs": [
        {
          "output_type": "stream",
          "name": "stdout",
          "text": [
            "Copying file://label_encoder.joblib [Content-Type=application/octet-stream]...\n",
            "/ [0 files][    0.0 B/  871.0 B]                                                \r/ [1 files][  871.0 B/  871.0 B]                                                \r\n",
            "Operation completed over 1 objects/871.0 B.                                      \n"
          ]
        }
      ]
    },
    {
      "cell_type": "code",
      "source": [],
      "metadata": {
        "id": "tDas3VKfzPr5"
      },
      "id": "tDas3VKfzPr5",
      "execution_count": null,
      "outputs": []
    }
  ],
  "metadata": {
    "kernelspec": {
      "display_name": "Python 3",
      "language": "python",
      "name": "python3"
    },
    "language_info": {
      "codemirror_mode": {
        "name": "ipython",
        "version": 3
      },
      "file_extension": ".py",
      "mimetype": "text/x-python",
      "name": "python",
      "nbconvert_exporter": "python",
      "pygments_lexer": "ipython3",
      "version": "3.10.10"
    },
    "colab": {
      "provenance": [],
      "name": "03_Preparing_the_Training_Dataset_2"
    }
  },
  "nbformat": 4,
  "nbformat_minor": 5
}